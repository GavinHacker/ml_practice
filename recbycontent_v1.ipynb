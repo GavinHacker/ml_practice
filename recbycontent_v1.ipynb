{
  "nbformat": 4,
  "nbformat_minor": 0,
  "metadata": {
    "colab": {
      "name": "recbycontent_v1.ipynb",
      "version": "0.3.2",
      "provenance": [],
      "collapsed_sections": [],
      "include_colab_link": true
    },
    "kernelspec": {
      "name": "python3",
      "display_name": "Python 3"
    }
  },
  "cells": [
    {
      "cell_type": "markdown",
      "metadata": {
        "id": "view-in-github",
        "colab_type": "text"
      },
      "source": [
        "<a href=\"https://colab.research.google.com/github/GavinHacker/ml_practice/blob/master/recbycontent_v1.ipynb\" target=\"_parent\"><img src=\"https://colab.research.google.com/assets/colab-badge.svg\" alt=\"Open In Colab\"/></a>"
      ]
    },
    {
      "metadata": {
        "id": "Xfrg3qJ857zS",
        "colab_type": "code",
        "colab": {}
      },
      "cell_type": "code",
      "source": [
        "#!pip install pymysql"
      ],
      "execution_count": 0,
      "outputs": []
    },
    {
      "metadata": {
        "id": "WXKEkEzink_m",
        "colab_type": "code",
        "colab": {}
      },
      "cell_type": "code",
      "source": [
        "#!pip install git+https://github.com/coreylynch/pyFM"
      ],
      "execution_count": 0,
      "outputs": []
    },
    {
      "metadata": {
        "id": "Qr4yc61W57Ic",
        "colab_type": "code",
        "colab": {}
      },
      "cell_type": "code",
      "source": [
        "import pandas as pd\n",
        "import pymysql\n",
        "import pymysql.cursors\n",
        "from functools import reduce\n",
        "import numpy as np\n",
        "import pandas as pd\n",
        "import uuid\n",
        "import datetime\n",
        "from pyfm import pylibfm\n",
        "from sklearn.feature_extraction import DictVectorizer\n",
        "from sklearn.metrics.pairwise import pairwise_distances\n",
        "np.set_printoptions(precision=3)\n",
        "np.set_printoptions(suppress=True)"
      ],
      "execution_count": 0,
      "outputs": []
    },
    {
      "metadata": {
        "id": "4Rdfk--W5-BA",
        "colab_type": "code",
        "colab": {}
      },
      "cell_type": "code",
      "source": [
        "def get_connection():\n",
        "    return pymysql.connect(host='rm-2zeqqm6994abi7b6dqo.mysql.rds.aliyuncs.com',\n",
        "                               user='noone',\n",
        "                               password='Huawei12#$',\n",
        "                               db='recsys',\n",
        "                               port=3306,\n",
        "                               charset ='utf8',\n",
        "                               use_unicode=True)"
      ],
      "execution_count": 0,
      "outputs": []
    },
    {
      "metadata": {
        "id": "85xHY1TA6MnC",
        "colab_type": "code",
        "colab": {}
      },
      "cell_type": "code",
      "source": [
        "#df = pd.read_sql_query(\"select * from movie\", get_connection())"
      ],
      "execution_count": 0,
      "outputs": []
    },
    {
      "metadata": {
        "id": "Wnd8Gwsk6tLv",
        "colab_type": "code",
        "colab": {}
      },
      "cell_type": "code",
      "source": [
        "#df.shape"
      ],
      "execution_count": 0,
      "outputs": []
    },
    {
      "metadata": {
        "id": "e4lQur0O67k0",
        "colab_type": "code",
        "colab": {}
      },
      "cell_type": "code",
      "source": [
        "#df_exp = df.head(1)"
      ],
      "execution_count": 0,
      "outputs": []
    },
    {
      "metadata": {
        "id": "CcJVn59xWoDT",
        "colab_type": "code",
        "colab": {}
      },
      "cell_type": "code",
      "source": [
        "#df_exp"
      ],
      "execution_count": 0,
      "outputs": []
    },
    {
      "metadata": {
        "id": "0TEiUd1MeqUp",
        "colab_type": "code",
        "colab": {}
      },
      "cell_type": "code",
      "source": [
        ""
      ],
      "execution_count": 0,
      "outputs": []
    },
    {
      "metadata": {
        "id": "nLE09L4bgrwg",
        "colab_type": "code",
        "colab": {}
      },
      "cell_type": "code",
      "source": [
        "def get_dim_dict(df, dim_name):\n",
        "  type_list = list(map(lambda x:x.split('|') ,df[dim_name]))\n",
        "  type_list = [x for l in type_list for x in l]\n",
        "  def reduce_func(x, y):\n",
        "    for i in x:\n",
        "      if i[0] == y[0][0]:\n",
        "        x.remove(i)\n",
        "        x.append(((i[0],i[1] + 1)))\n",
        "        return x\n",
        "    x.append(y[0])\n",
        "    return x\n",
        "  l = filter(lambda x:x != None, map(lambda x:[(x, 1)], type_list))\n",
        "  type_zip = reduce(reduce_func, list(l))\n",
        "  #type_list = sorted(list(set(type_list)))\n",
        "  #type_zip = zip(list(range(len(type_list))), type_list)\n",
        "  #print(len(type_zip))\n",
        "  #print(type_zip)\n",
        "  type_dict = {}\n",
        "  for i in type_zip:\n",
        "    type_dict[i[0]] = i[1]\n",
        "  return type_dict"
      ],
      "execution_count": 0,
      "outputs": []
    },
    {
      "metadata": {
        "id": "NgCL3BIGjYua",
        "colab_type": "code",
        "colab": {}
      },
      "cell_type": "code",
      "source": [
        "type_dict = get_dim_dict(df, 'type')\n",
        "actors_dict = get_dim_dict(df, 'actors')\n",
        "director_dict = get_dim_dict(df, 'director')\n",
        "trait_dict = get_dim_dict(df, 'trait')"
      ],
      "execution_count": 0,
      "outputs": []
    },
    {
      "metadata": {
        "id": "aKGvytP_lSOe",
        "colab_type": "code",
        "colab": {}
      },
      "cell_type": "code",
      "source": [
        "#print(type_dict)\n",
        "#print(actors_dict)\n",
        "#print(director_dict)\n",
        "#print(trait_dict)"
      ],
      "execution_count": 0,
      "outputs": []
    },
    {
      "metadata": {
        "id": "Zauqzs6v8r7h",
        "colab_type": "code",
        "colab": {}
      },
      "cell_type": "code",
      "source": [
        "#director_dict['吉姆·弗尔']"
      ],
      "execution_count": 0,
      "outputs": []
    },
    {
      "metadata": {
        "id": "vG6UtDPM8zCw",
        "colab_type": "code",
        "colab": {}
      },
      "cell_type": "code",
      "source": [
        "#actors_dict['马克·莱昂纳蒂']"
      ],
      "execution_count": 0,
      "outputs": []
    },
    {
      "metadata": {
        "id": "DlYjtQt3mcUM",
        "colab_type": "code",
        "colab": {}
      },
      "cell_type": "code",
      "source": [
        "#df_ = df.drop(['ADD_TIME', 'enable', 'rat', 'id', 'name'], axis=1)"
      ],
      "execution_count": 0,
      "outputs": []
    },
    {
      "metadata": {
        "id": "xuCi-7VAuBkW",
        "colab_type": "code",
        "colab": {}
      },
      "cell_type": "code",
      "source": [
        "#df_.head()"
      ],
      "execution_count": 0,
      "outputs": []
    },
    {
      "metadata": {
        "id": "Y2sXwXAhz1FA",
        "colab_type": "code",
        "colab": {}
      },
      "cell_type": "code",
      "source": [
        ""
      ],
      "execution_count": 0,
      "outputs": []
    },
    {
      "metadata": {
        "id": "jicjc-23oFRO",
        "colab_type": "code",
        "colab": {}
      },
      "cell_type": "code",
      "source": [
        "movie_dict_list = []\n",
        "for i in df_.index:\n",
        "  movie_dict = {}\n",
        "  #type\n",
        "  for s_type in df_.iloc[i]['type'].split('|'):\n",
        "    movie_dict[s_type] = 1\n",
        "  #actors\n",
        "  for s_actor in df_.iloc[i]['actors'].split('|'):\n",
        "    if actors_dict[s_actor] < 2:\n",
        "      movie_dict['other_actor'] = 1\n",
        "    else:\n",
        "      movie_dict[s_actor] = 1\n",
        "  #regios\n",
        "  movie_dict[df_.iloc[i]['region']] = 1\n",
        "  #director\n",
        "  for s_director in df_.iloc[i]['director'].split('|'):\n",
        "    if director_dict[s_director] < 2:\n",
        "      movie_dict['other_director'] = 1\n",
        "    else:\n",
        "      movie_dict[s_director] = 1\n",
        "  #trait\n",
        "  for s_trait in df_.iloc[i]['trait'].split('|'):\n",
        "    movie_dict[s_trait] = 1\n",
        "  movie_dict_list.append(movie_dict)"
      ],
      "execution_count": 0,
      "outputs": []
    },
    {
      "metadata": {
        "id": "DwakpcbVvGmu",
        "colab_type": "code",
        "colab": {}
      },
      "cell_type": "code",
      "source": [
        "v = DictVectorizer()\n",
        "X = v.fit_transform(movie_dict_list)"
      ],
      "execution_count": 0,
      "outputs": []
    },
    {
      "metadata": {
        "id": "rhb2GHdMwJ4l",
        "colab_type": "code",
        "colab": {}
      },
      "cell_type": "code",
      "source": [
        "#X.shape"
      ],
      "execution_count": 0,
      "outputs": []
    },
    {
      "metadata": {
        "id": "LcE1Ir5HSk-_",
        "colab_type": "code",
        "colab": {}
      },
      "cell_type": "code",
      "source": [
        "#pd.DataFrame(data=X.toarray(), columns=v.feature_names_).T.head(5)"
      ],
      "execution_count": 0,
      "outputs": []
    },
    {
      "metadata": {
        "id": "5L8l65lg7AoE",
        "colab_type": "code",
        "colab": {}
      },
      "cell_type": "code",
      "source": [
        "item_similarity = pairwise_distances(X, metric='cosine')"
      ],
      "execution_count": 0,
      "outputs": []
    },
    {
      "metadata": {
        "id": "YEEu1ZhQVL6P",
        "colab_type": "code",
        "colab": {}
      },
      "cell_type": "code",
      "source": [
        "#item_similarity.shape"
      ],
      "execution_count": 0,
      "outputs": []
    },
    {
      "metadata": {
        "id": "UUcGZ5FMVQSm",
        "colab_type": "code",
        "outputId": "0de847b0-83be-4ecf-e5c1-bc25a45ef7ac",
        "colab": {
          "base_uri": "https://localhost:8080/",
          "height": 34
        }
      },
      "cell_type": "code",
      "source": [
        "compare_index = 3\n",
        "index = 0\n",
        "_max_index = 0\n",
        "_max = 1\n",
        "for i in item_similarity[compare_index]:\n",
        "  if i < _max and i != 0:\n",
        "    _max = i\n",
        "    _max_index = index\n",
        "  index = index + 1\n",
        "print(_max_index, _max)"
      ],
      "execution_count": 0,
      "outputs": [
        {
          "output_type": "stream",
          "text": [
            "3634 0.2587506833388987\n"
          ],
          "name": "stdout"
        }
      ]
    },
    {
      "metadata": {
        "id": "S06VsY4cFgA6",
        "colab_type": "code",
        "colab": {}
      },
      "cell_type": "code",
      "source": [
        "index_of_sim = _max_index"
      ],
      "execution_count": 0,
      "outputs": []
    },
    {
      "metadata": {
        "id": "LMP8ylRWVMqn",
        "colab_type": "code",
        "outputId": "d20932d3-928a-40fc-92ed-fd8dec03a972",
        "colab": {
          "base_uri": "https://localhost:8080/",
          "height": 323
        }
      },
      "cell_type": "code",
      "source": [
        "df.iloc[index_of_sim]\n",
        "movie_dict_list[index_of_sim]\n",
        "df_106 = pd.DataFrame(data=X.todense()[index_of_sim], columns=v.feature_names_)\n",
        "df_0 = pd.DataFrame(data=X.todense()[compare_index], columns=v.feature_names_)\n",
        "df_diff = pd.concat([df_0, df_106], axis=0, ignore_index=True)\n",
        "#df_diff.reindex(['0','1'])\n",
        "df_diff = df_diff.T\n",
        "print(df_diff[(df_diff[0] != 0) | (df_diff[1] != 0)])"
      ],
      "execution_count": 0,
      "outputs": [
        {
          "output_type": "stream",
          "text": [
            "                  0    1\n",
            "other_actor     1.0  1.0\n",
            "other_director  1.0  1.0\n",
            "丹尼·博伊尔          0.0  1.0\n",
            "佩丽冉卡·曹帕拉        1.0  0.0\n",
            "剧情              1.0  1.0\n",
            "励志              1.0  1.0\n",
            "印度              1.0  1.0\n",
            "喜剧              1.0  1.0\n",
            "感人              1.0  1.0\n",
            "戴夫·帕特尔          0.0  1.0\n",
            "搞笑              1.0  0.0\n",
            "文艺              1.0  0.0\n",
            "沙鲁巴·舒克拉         1.0  1.0\n",
            "爱情              1.0  1.0\n",
            "经典              1.0  1.0\n",
            "青春              0.0  1.0\n",
            "音乐              1.0  0.0\n"
          ],
          "name": "stdout"
        }
      ]
    },
    {
      "metadata": {
        "id": "HZVO4bHXyHEU",
        "colab_type": "code",
        "colab": {}
      },
      "cell_type": "code",
      "source": [
        "#df.iloc[index_of_sim]\n",
        "#movie_dict_list[0]"
      ],
      "execution_count": 0,
      "outputs": []
    },
    {
      "metadata": {
        "id": "4jWBmBMczT1O",
        "colab_type": "code",
        "colab": {}
      },
      "cell_type": "code",
      "source": [
        "#df.iloc[compare_index]"
      ],
      "execution_count": 0,
      "outputs": []
    },
    {
      "metadata": {
        "id": "7TzGxhlozd6O",
        "colab_type": "code",
        "colab": {}
      },
      "cell_type": "code",
      "source": [
        "#item_similarity.shape"
      ],
      "execution_count": 0,
      "outputs": []
    },
    {
      "metadata": {
        "id": "75SRFh7lZEqh",
        "colab_type": "code",
        "colab": {}
      },
      "cell_type": "code",
      "source": [
        "# li_dict = {1:0.1, 2:0.2, 5:0.4, 8:0.3}\n",
        "# min(li_dict.values())\n",
        "# dict(filter(lambda x:x[1] != 0.4 ,li_dict.items()))"
      ],
      "execution_count": 0,
      "outputs": []
    },
    {
      "metadata": {
        "id": "wpWxp2eNbn3C",
        "colab_type": "code",
        "colab": {}
      },
      "cell_type": "code",
      "source": [
        "#df_sim = pd.DataFrame(data=item_similarity)"
      ],
      "execution_count": 0,
      "outputs": []
    },
    {
      "metadata": {
        "id": "ibs6QhZ-c_32",
        "colab_type": "code",
        "colab": {}
      },
      "cell_type": "code",
      "source": [
        "#df_sim.head(1)"
      ],
      "execution_count": 0,
      "outputs": []
    },
    {
      "metadata": {
        "id": "V54pDt7Io2gQ",
        "colab_type": "code",
        "colab": {}
      },
      "cell_type": "code",
      "source": [
        "def insert_one_ibmovie(id_,\n",
        "                      movieid,\n",
        "                      recmovieid,\n",
        "                      recmovierat,\n",
        "                      simrat,\n",
        "                      time,\n",
        "                      enable, connection):\n",
        "  sql = 'insert into ibmovie (id, movieid, recmovieid, recmovierat, simrat, time, enable) values (\\'%s\\',\\'%s\\',\\'%s\\',\\'%s\\',\\'%s\\',\\'%s\\',\\'%s\\')' % (id_, movieid, recmovieid, recmovierat, simrat, time, enable)\n",
        "  print(sql)\n",
        "  try:\n",
        "    with connection.cursor() as cursor:\n",
        "        cout=cursor.execute(sql)\n",
        "    connection.commit()\n",
        "  except Exception as e:\n",
        "    print(e)\n",
        "    connection.close()"
      ],
      "execution_count": 0,
      "outputs": []
    },
    {
      "metadata": {
        "id": "6rZZt9yLuclQ",
        "colab_type": "text"
      },
      "cell_type": "markdown",
      "source": [
        "## Test code"
      ]
    },
    {
      "metadata": {
        "id": "ztxAOQqIubhc",
        "colab_type": "code",
        "colab": {}
      },
      "cell_type": "code",
      "source": [
        "# _conn = get_connection()\n",
        "# insert_one_ibmovie(uuid.uuid4(), '1', '2', '6', '0.1', datetime.datetime.now(), '1', _conn)\n",
        "# _conn.commit()\n",
        "# _conn.close()"
      ],
      "execution_count": 0,
      "outputs": []
    },
    {
      "metadata": {
        "id": "wqxqYx-uv0Xt",
        "colab_type": "code",
        "colab": {}
      },
      "cell_type": "code",
      "source": [
        "# df_sim.nsmallest(10, 0)[0]"
      ],
      "execution_count": 0,
      "outputs": []
    },
    {
      "metadata": {
        "id": "TZYb1opSbyAB",
        "colab_type": "code",
        "colab": {}
      },
      "cell_type": "code",
      "source": [
        "def process_offline_compute_by_cosdis(rec_per_num):\n",
        "  rec_per_num = rec_per_num + 1\n",
        "  connection = get_connection()\n",
        "  for i in range(0, item_similarity.shape[0]):\n",
        "    df_sim_p = df_sim.nsmallest(rec_per_num, i)\n",
        "    df_sim_p = df_sim_p[i]\n",
        "    movie_id = df.iloc[i]['id']\n",
        "    time_now = datetime.datetime.now()\n",
        "    for rec_movie_item in df_sim_p.to_dict().items():\n",
        "      if rec_movie_item[0] != i:\n",
        "        rec_movie_index = rec_movie_item[0]\n",
        "        rec_movie_sim = rec_movie_item[1]\n",
        "        rec_movie_id = df.iloc[rec_movie_index]['id']\n",
        "        rec_movie_rat = df.iloc[rec_movie_index]['rat']\n",
        "        insert_one_ibmovie(id_=uuid.uuid4(), movieid=movie_id, recmovieid=rec_movie_id, recmovierat=rec_movie_rat, simrat=rec_movie_sim, time=time_now, enable='1', connection=connection)\n",
        "    connection.commit()"
      ],
      "execution_count": 0,
      "outputs": []
    },
    {
      "metadata": {
        "id": "XyDv1CbL0Kw8",
        "colab_type": "code",
        "outputId": "f9773ab8-ec4a-4899-c2c0-b6fb1c7d7e1b",
        "colab": {
          "base_uri": "https://localhost:8080/",
          "height": 2058
        }
      },
      "cell_type": "code",
      "source": [
        "process_offline_compute_by_cosdis(rec_per_num=200)"
      ],
      "execution_count": 0,
      "outputs": [
        {
          "output_type": "stream",
          "text": [
            "insert into ibmovie (id, movieid, recmovieid, recmovierat, simrat, time, enable) values ('2ea27d62-f4c0-4e50-9de4-bcb0427eeb63','10001432','26375689','6.8','0.2222222222222221','2018-12-20 09:01:36.147226','1')\n",
            "insert into ibmovie (id, movieid, recmovieid, recmovierat, simrat, time, enable) values ('eba4c82f-24d3-4705-aaca-2d2309c83a8b','10001432','2381835','5.7','0.24407105398154572','2018-12-20 09:01:36.147226','1')\n",
            "insert into ibmovie (id, movieid, recmovieid, recmovierat, simrat, time, enable) values ('647c3607-8cb2-4aae-8271-e1de0b5f35ab','10047547','6874456','7.3','0.03175416344814619','2018-12-20 09:01:38.639798','1')\n",
            "insert into ibmovie (id, movieid, recmovieid, recmovierat, simrat, time, enable) values ('7f535096-fe13-4ff6-aaba-a5802d3511c5','10047547','6533054','5.9','0.09630388588493644','2018-12-20 09:01:38.639798','1')\n",
            "insert into ibmovie (id, movieid, recmovieid, recmovierat, simrat, time, enable) values ('6fa5b62f-dc5d-46cf-8da5-7638355b7489','10342838','1305858','8.0','0.4777670321329065','2018-12-20 09:01:41.171293','1')\n",
            "insert into ibmovie (id, movieid, recmovieid, recmovierat, simrat, time, enable) values ('0c70fec5-0478-496c-8cf5-f0edf4690989','10342838','1309091','6.5','0.4777670321329065','2018-12-20 09:01:41.171293','1')\n",
            "insert into ibmovie (id, movieid, recmovieid, recmovierat, simrat, time, enable) values ('d5c09310-780a-4b41-9829-cbb7657f8e29','10355329','2209573','8.5','0.2587506833388987','2018-12-20 09:01:43.640003','1')\n",
            "insert into ibmovie (id, movieid, recmovieid, recmovierat, simrat, time, enable) values ('23f0fa5f-47ff-4c1c-9661-94533cbec3f8','10355329','10876425','8.3','0.2747593323771579','2018-12-20 09:01:43.640003','1')\n",
            "insert into ibmovie (id, movieid, recmovieid, recmovierat, simrat, time, enable) values ('63abe1a3-c2ba-491d-9ee6-30ffcc1a9e08','10428476','4832564','7.4','0.23722992860352599','2018-12-20 09:01:46.185501','1')\n",
            "insert into ibmovie (id, movieid, recmovieid, recmovierat, simrat, time, enable) values ('08a5c128-3506-4c4a-9f88-683d08719c43','10428476','3003836','7.1','0.36363636363636354','2018-12-20 09:01:46.185501','1')\n",
            "insert into ibmovie (id, movieid, recmovieid, recmovierat, simrat, time, enable) values ('c562a95f-a84b-4f63-a583-9058c03b8816','10430817','4221335','7.8','0.2546440075000702','2018-12-20 09:01:48.775497','1')\n",
            "insert into ibmovie (id, movieid, recmovieid, recmovierat, simrat, time, enable) values ('3cb394d8-3c7c-4bbd-a709-ef52616eefa4','10430817','2300586','8.5','0.26213521262737816','2018-12-20 09:01:48.775497','1')\n",
            "insert into ibmovie (id, movieid, recmovieid, recmovierat, simrat, time, enable) values ('5f136d88-de92-415c-bd2f-4f11968ded49','10432911','20497633','6.9','0.3076923076923077','2018-12-20 09:01:51.367809','1')\n",
            "insert into ibmovie (id, movieid, recmovieid, recmovierat, simrat, time, enable) values ('134688c8-9f2b-4684-93d4-a27b2ede48a3','10432911','26169607','7.5','0.3076923076923077','2018-12-20 09:01:51.367809','1')\n",
            "insert into ibmovie (id, movieid, recmovieid, recmovierat, simrat, time, enable) values ('4a27f95d-a2bf-441e-93f5-522ca23620b3','10437779','1419942','8.6','0.0','2018-12-20 09:01:53.880151','1')\n",
            "insert into ibmovie (id, movieid, recmovieid, recmovierat, simrat, time, enable) values ('459486f4-79af-4e07-b782-64ce79a69825','10437779','1401383','7.3','0.35181878391233146','2018-12-20 09:01:53.880151','1')\n",
            "insert into ibmovie (id, movieid, recmovieid, recmovierat, simrat, time, enable) values ('dbbbb88b-ddab-48e3-8459-7b41d622d1c7','10437865','2139766','7.9','0.20000000000000007','2018-12-20 09:01:56.496481','1')\n",
            "insert into ibmovie (id, movieid, recmovieid, recmovierat, simrat, time, enable) values ('7d6d7d17-7c6d-4757-bdd7-36f1a2cb3a8f','10437865','26920269','8.3','0.20000000000000007','2018-12-20 09:01:56.496481','1')\n",
            "insert into ibmovie (id, movieid, recmovieid, recmovierat, simrat, time, enable) values ('44b7d0ea-c11a-4539-97ec-86deff57f53c','10438426','1293388','8.3','0.411651594585448','2018-12-20 09:01:59.034526','1')\n",
            "insert into ibmovie (id, movieid, recmovieid, recmovierat, simrat, time, enable) values ('7a50d53b-d625-4df1-9705-a53cecba274e','10438426','1294140','8.3','0.411651594585448','2018-12-20 09:01:59.034526','1')\n",
            "insert into ibmovie (id, movieid, recmovieid, recmovierat, simrat, time, enable) values ('3e5404ff-e6af-4935-8170-a63788fa68dd','10438581','22637441','7.3','0.2222222222222221','2018-12-20 09:02:01.579380','1')\n",
            "insert into ibmovie (id, movieid, recmovieid, recmovierat, simrat, time, enable) values ('2d97c230-05a4-42d0-85b7-c55f66121fb4','10438581','1299986','7.7','0.4107443490112105','2018-12-20 09:02:01.579380','1')\n",
            "insert into ibmovie (id, movieid, recmovieid, recmovierat, simrat, time, enable) values ('320089a8-8f03-4e39-88ef-9b2292625ce2','10438582','4826409','8.1','0.0','2018-12-20 09:02:04.196405','1')\n",
            "insert into ibmovie (id, movieid, recmovieid, recmovierat, simrat, time, enable) values ('a9dd95a1-40aa-407c-8c49-d8f0a47eba0c','10438582','1433702','7.6','0.07417990022744847','2018-12-20 09:02:04.196405','1')\n",
            "insert into ibmovie (id, movieid, recmovieid, recmovierat, simrat, time, enable) values ('2650decf-6aec-4aff-ae13-7caabe22c90f','10438691','1310170','7.2','0.4522774424948338','2018-12-20 09:02:06.745189','1')\n",
            "insert into ibmovie (id, movieid, recmovieid, recmovierat, simrat, time, enable) values ('42d5fb62-b166-4228-9ed7-e77f3d987da5','10438691','1863384','7.7','0.45505073908693394','2018-12-20 09:02:06.745189','1')\n",
            "insert into ibmovie (id, movieid, recmovieid, recmovierat, simrat, time, enable) values ('1d19bd53-6ac4-441c-80e0-4203f75ff930','10439235','26790961','7.3','0.2727272727272726','2018-12-20 09:02:09.249454','1')\n",
            "insert into ibmovie (id, movieid, recmovieid, recmovierat, simrat, time, enable) values ('9f07d232-05ef-4f81-99ec-77cf36e74c9d','10439235','20427090','6.0','0.29647352931855153','2018-12-20 09:02:09.249454','1')\n",
            "insert into ibmovie (id, movieid, recmovieid, recmovierat, simrat, time, enable) values ('8a2d1c83-ae3e-4cbc-93f4-f4f9dfa9b989','10439358','21348445','5.8','0.5188747756753118','2018-12-20 09:02:11.706702','1')\n",
            "insert into ibmovie (id, movieid, recmovieid, recmovierat, simrat, time, enable) values ('a33cbb6b-f900-40ea-8edf-f0d83a388cfb','10439358','5332266','6.7','0.5196155385847385','2018-12-20 09:02:11.706702','1')\n",
            "insert into ibmovie (id, movieid, recmovieid, recmovierat, simrat, time, enable) values ('267b918d-34b0-41ab-97b3-e8af3f10387d','10439805','3090455','5.9','0.3846153846153846','2018-12-20 09:02:14.203863','1')\n",
            "insert into ibmovie (id, movieid, recmovieid, recmovierat, simrat, time, enable) values ('53f7715b-dad5-408e-b27e-336ef03e45b9','10439805','3014399','5.2','0.4811254783372291','2018-12-20 09:02:14.203863','1')\n",
            "insert into ibmovie (id, movieid, recmovieid, recmovierat, simrat, time, enable) values ('8507b7ec-dfeb-4d04-b925-e35098570357','10439840','20398972','8.8','0.0871290708247231','2018-12-20 09:02:16.802923','1')\n",
            "insert into ibmovie (id, movieid, recmovieid, recmovierat, simrat, time, enable) values ('40489d0f-c54f-4f74-b9d3-6705fe817251','10439840','26334993','9.1','0.0871290708247231','2018-12-20 09:02:16.802923','1')\n",
            "insert into ibmovie (id, movieid, recmovieid, recmovierat, simrat, time, enable) values ('2193a2dd-0f16-4ebf-b625-ea79e1050bff','10439879','24756472','6.4','0.0','2018-12-20 09:02:19.323837','1')\n",
            "insert into ibmovie (id, movieid, recmovieid, recmovierat, simrat, time, enable) values ('4788f761-3a6a-4bbf-af7b-88a262e84941','10439879','1951318','7.2','0.11111111111111094','2018-12-20 09:02:19.323837','1')\n",
            "insert into ibmovie (id, movieid, recmovieid, recmovierat, simrat, time, enable) values ('f379b76d-466d-4c93-9efa-315299a82d44','10440069','1309154','7.5','0.42264973081037416','2018-12-20 09:02:21.868584','1')\n",
            "insert into ibmovie (id, movieid, recmovieid, recmovierat, simrat, time, enable) values ('d3178652-ee55-4420-8e9f-9522040dbe66','10440069','3690419','8.4','0.454455274410019','2018-12-20 09:02:21.868584','1')\n",
            "insert into ibmovie (id, movieid, recmovieid, recmovierat, simrat, time, enable) values ('d397da53-a1e0-4265-90b1-b841c99bd623','10440076','1295955','6.3','0.2794233078771078','2018-12-20 09:02:24.452588','1')\n",
            "insert into ibmovie (id, movieid, recmovieid, recmovierat, simrat, time, enable) values ('4b93664a-45ce-44c8-8f8f-224221635a1a','10440076','19951149','5.7','0.28388512596056714','2018-12-20 09:02:24.452588','1')\n",
            "insert into ibmovie (id, movieid, recmovieid, recmovierat, simrat, time, enable) values ('544f820d-35e0-48be-b165-9a2bf214b97e','10440138','1292553','8.1','0.4117647058823529','2018-12-20 09:02:27.094932','1')\n"
          ],
          "name": "stdout"
        },
        {
          "output_type": "error",
          "ename": "KeyboardInterrupt",
          "evalue": "ignored",
          "traceback": [
            "\u001b[0;31m---------------------------------------------------------------------------\u001b[0m",
            "\u001b[0;31mKeyboardInterrupt\u001b[0m                         Traceback (most recent call last)",
            "\u001b[0;32m<ipython-input-50-dceae2ee4ebc>\u001b[0m in \u001b[0;36m<module>\u001b[0;34m()\u001b[0m\n\u001b[0;32m----> 1\u001b[0;31m \u001b[0mprocess_offline_compute_by_cosdis\u001b[0m\u001b[0;34m(\u001b[0m\u001b[0mrec_per_num\u001b[0m\u001b[0;34m=\u001b[0m\u001b[0;36m2\u001b[0m\u001b[0;34m)\u001b[0m\u001b[0;34m\u001b[0m\u001b[0;34m\u001b[0m\u001b[0m\n\u001b[0m",
            "\u001b[0;32m<ipython-input-49-302df69b5884>\u001b[0m in \u001b[0;36mprocess_offline_compute_by_cosdis\u001b[0;34m(rec_per_num)\u001b[0m\n\u001b[1;32m     13\u001b[0m         \u001b[0mrec_movie_id\u001b[0m \u001b[0;34m=\u001b[0m \u001b[0mdf\u001b[0m\u001b[0;34m.\u001b[0m\u001b[0miloc\u001b[0m\u001b[0;34m[\u001b[0m\u001b[0mrec_movie_index\u001b[0m\u001b[0;34m]\u001b[0m\u001b[0;34m[\u001b[0m\u001b[0;34m'id'\u001b[0m\u001b[0;34m]\u001b[0m\u001b[0;34m\u001b[0m\u001b[0;34m\u001b[0m\u001b[0m\n\u001b[1;32m     14\u001b[0m         \u001b[0mrec_movie_rat\u001b[0m \u001b[0;34m=\u001b[0m \u001b[0mdf\u001b[0m\u001b[0;34m.\u001b[0m\u001b[0miloc\u001b[0m\u001b[0;34m[\u001b[0m\u001b[0mrec_movie_index\u001b[0m\u001b[0;34m]\u001b[0m\u001b[0;34m[\u001b[0m\u001b[0;34m'rat'\u001b[0m\u001b[0;34m]\u001b[0m\u001b[0;34m\u001b[0m\u001b[0;34m\u001b[0m\u001b[0m\n\u001b[0;32m---> 15\u001b[0;31m         \u001b[0minsert_one_ibmovie\u001b[0m\u001b[0;34m(\u001b[0m\u001b[0mid_\u001b[0m\u001b[0;34m=\u001b[0m\u001b[0muuid\u001b[0m\u001b[0;34m.\u001b[0m\u001b[0muuid4\u001b[0m\u001b[0;34m(\u001b[0m\u001b[0;34m)\u001b[0m\u001b[0;34m,\u001b[0m \u001b[0mmovieid\u001b[0m\u001b[0;34m=\u001b[0m\u001b[0mmovie_id\u001b[0m\u001b[0;34m,\u001b[0m \u001b[0mrecmovieid\u001b[0m\u001b[0;34m=\u001b[0m\u001b[0mrec_movie_id\u001b[0m\u001b[0;34m,\u001b[0m \u001b[0mrecmovierat\u001b[0m\u001b[0;34m=\u001b[0m\u001b[0mrec_movie_rat\u001b[0m\u001b[0;34m,\u001b[0m \u001b[0msimrat\u001b[0m\u001b[0;34m=\u001b[0m\u001b[0mrec_movie_sim\u001b[0m\u001b[0;34m,\u001b[0m \u001b[0mtime\u001b[0m\u001b[0;34m=\u001b[0m\u001b[0mtime_now\u001b[0m\u001b[0;34m,\u001b[0m \u001b[0menable\u001b[0m\u001b[0;34m=\u001b[0m\u001b[0;34m'1'\u001b[0m\u001b[0;34m,\u001b[0m \u001b[0mconnection\u001b[0m\u001b[0;34m=\u001b[0m\u001b[0mconnection\u001b[0m\u001b[0;34m)\u001b[0m\u001b[0;34m\u001b[0m\u001b[0;34m\u001b[0m\u001b[0m\n\u001b[0m\u001b[1;32m     16\u001b[0m     \u001b[0mconnection\u001b[0m\u001b[0;34m.\u001b[0m\u001b[0mcommit\u001b[0m\u001b[0;34m(\u001b[0m\u001b[0;34m)\u001b[0m\u001b[0;34m\u001b[0m\u001b[0;34m\u001b[0m\u001b[0m\n",
            "\u001b[0;32m<ipython-input-31-c65995086cb9>\u001b[0m in \u001b[0;36minsert_one_ibmovie\u001b[0;34m(id_, movieid, recmovieid, recmovierat, simrat, time, enable, connection)\u001b[0m\n\u001b[1;32m     10\u001b[0m   \u001b[0;32mtry\u001b[0m\u001b[0;34m:\u001b[0m\u001b[0;34m\u001b[0m\u001b[0;34m\u001b[0m\u001b[0m\n\u001b[1;32m     11\u001b[0m     \u001b[0;32mwith\u001b[0m \u001b[0mconnection\u001b[0m\u001b[0;34m.\u001b[0m\u001b[0mcursor\u001b[0m\u001b[0;34m(\u001b[0m\u001b[0;34m)\u001b[0m \u001b[0;32mas\u001b[0m \u001b[0mcursor\u001b[0m\u001b[0;34m:\u001b[0m\u001b[0;34m\u001b[0m\u001b[0;34m\u001b[0m\u001b[0m\n\u001b[0;32m---> 12\u001b[0;31m         \u001b[0mcout\u001b[0m\u001b[0;34m=\u001b[0m\u001b[0mcursor\u001b[0m\u001b[0;34m.\u001b[0m\u001b[0mexecute\u001b[0m\u001b[0;34m(\u001b[0m\u001b[0msql\u001b[0m\u001b[0;34m)\u001b[0m\u001b[0;34m\u001b[0m\u001b[0;34m\u001b[0m\u001b[0m\n\u001b[0m\u001b[1;32m     13\u001b[0m     \u001b[0mconnection\u001b[0m\u001b[0;34m.\u001b[0m\u001b[0mcommit\u001b[0m\u001b[0;34m(\u001b[0m\u001b[0;34m)\u001b[0m\u001b[0;34m\u001b[0m\u001b[0;34m\u001b[0m\u001b[0m\n\u001b[1;32m     14\u001b[0m   \u001b[0;32mexcept\u001b[0m \u001b[0mException\u001b[0m \u001b[0;32mas\u001b[0m \u001b[0me\u001b[0m\u001b[0;34m:\u001b[0m\u001b[0;34m\u001b[0m\u001b[0;34m\u001b[0m\u001b[0m\n",
            "\u001b[0;32m/usr/local/lib/python3.6/dist-packages/pymysql/cursors.py\u001b[0m in \u001b[0;36mexecute\u001b[0;34m(self, query, args)\u001b[0m\n\u001b[1;32m    168\u001b[0m         \u001b[0mquery\u001b[0m \u001b[0;34m=\u001b[0m \u001b[0mself\u001b[0m\u001b[0;34m.\u001b[0m\u001b[0mmogrify\u001b[0m\u001b[0;34m(\u001b[0m\u001b[0mquery\u001b[0m\u001b[0;34m,\u001b[0m \u001b[0margs\u001b[0m\u001b[0;34m)\u001b[0m\u001b[0;34m\u001b[0m\u001b[0;34m\u001b[0m\u001b[0m\n\u001b[1;32m    169\u001b[0m \u001b[0;34m\u001b[0m\u001b[0m\n\u001b[0;32m--> 170\u001b[0;31m         \u001b[0mresult\u001b[0m \u001b[0;34m=\u001b[0m \u001b[0mself\u001b[0m\u001b[0;34m.\u001b[0m\u001b[0m_query\u001b[0m\u001b[0;34m(\u001b[0m\u001b[0mquery\u001b[0m\u001b[0;34m)\u001b[0m\u001b[0;34m\u001b[0m\u001b[0;34m\u001b[0m\u001b[0m\n\u001b[0m\u001b[1;32m    171\u001b[0m         \u001b[0mself\u001b[0m\u001b[0;34m.\u001b[0m\u001b[0m_executed\u001b[0m \u001b[0;34m=\u001b[0m \u001b[0mquery\u001b[0m\u001b[0;34m\u001b[0m\u001b[0;34m\u001b[0m\u001b[0m\n\u001b[1;32m    172\u001b[0m         \u001b[0;32mreturn\u001b[0m \u001b[0mresult\u001b[0m\u001b[0;34m\u001b[0m\u001b[0;34m\u001b[0m\u001b[0m\n",
            "\u001b[0;32m/usr/local/lib/python3.6/dist-packages/pymysql/cursors.py\u001b[0m in \u001b[0;36m_query\u001b[0;34m(self, q)\u001b[0m\n\u001b[1;32m    326\u001b[0m         \u001b[0mself\u001b[0m\u001b[0;34m.\u001b[0m\u001b[0m_last_executed\u001b[0m \u001b[0;34m=\u001b[0m \u001b[0mq\u001b[0m\u001b[0;34m\u001b[0m\u001b[0;34m\u001b[0m\u001b[0m\n\u001b[1;32m    327\u001b[0m         \u001b[0mself\u001b[0m\u001b[0;34m.\u001b[0m\u001b[0m_clear_result\u001b[0m\u001b[0;34m(\u001b[0m\u001b[0;34m)\u001b[0m\u001b[0;34m\u001b[0m\u001b[0;34m\u001b[0m\u001b[0m\n\u001b[0;32m--> 328\u001b[0;31m         \u001b[0mconn\u001b[0m\u001b[0;34m.\u001b[0m\u001b[0mquery\u001b[0m\u001b[0;34m(\u001b[0m\u001b[0mq\u001b[0m\u001b[0;34m)\u001b[0m\u001b[0;34m\u001b[0m\u001b[0;34m\u001b[0m\u001b[0m\n\u001b[0m\u001b[1;32m    329\u001b[0m         \u001b[0mself\u001b[0m\u001b[0;34m.\u001b[0m\u001b[0m_do_get_result\u001b[0m\u001b[0;34m(\u001b[0m\u001b[0;34m)\u001b[0m\u001b[0;34m\u001b[0m\u001b[0;34m\u001b[0m\u001b[0m\n\u001b[1;32m    330\u001b[0m         \u001b[0;32mreturn\u001b[0m \u001b[0mself\u001b[0m\u001b[0;34m.\u001b[0m\u001b[0mrowcount\u001b[0m\u001b[0;34m\u001b[0m\u001b[0;34m\u001b[0m\u001b[0m\n",
            "\u001b[0;32m/usr/local/lib/python3.6/dist-packages/pymysql/connections.py\u001b[0m in \u001b[0;36mquery\u001b[0;34m(self, sql, unbuffered)\u001b[0m\n\u001b[1;32m    515\u001b[0m                 \u001b[0msql\u001b[0m \u001b[0;34m=\u001b[0m \u001b[0msql\u001b[0m\u001b[0;34m.\u001b[0m\u001b[0mencode\u001b[0m\u001b[0;34m(\u001b[0m\u001b[0mself\u001b[0m\u001b[0;34m.\u001b[0m\u001b[0mencoding\u001b[0m\u001b[0;34m,\u001b[0m \u001b[0;34m'surrogateescape'\u001b[0m\u001b[0;34m)\u001b[0m\u001b[0;34m\u001b[0m\u001b[0;34m\u001b[0m\u001b[0m\n\u001b[1;32m    516\u001b[0m         \u001b[0mself\u001b[0m\u001b[0;34m.\u001b[0m\u001b[0m_execute_command\u001b[0m\u001b[0;34m(\u001b[0m\u001b[0mCOMMAND\u001b[0m\u001b[0;34m.\u001b[0m\u001b[0mCOM_QUERY\u001b[0m\u001b[0;34m,\u001b[0m \u001b[0msql\u001b[0m\u001b[0;34m)\u001b[0m\u001b[0;34m\u001b[0m\u001b[0;34m\u001b[0m\u001b[0m\n\u001b[0;32m--> 517\u001b[0;31m         \u001b[0mself\u001b[0m\u001b[0;34m.\u001b[0m\u001b[0m_affected_rows\u001b[0m \u001b[0;34m=\u001b[0m \u001b[0mself\u001b[0m\u001b[0;34m.\u001b[0m\u001b[0m_read_query_result\u001b[0m\u001b[0;34m(\u001b[0m\u001b[0munbuffered\u001b[0m\u001b[0;34m=\u001b[0m\u001b[0munbuffered\u001b[0m\u001b[0;34m)\u001b[0m\u001b[0;34m\u001b[0m\u001b[0;34m\u001b[0m\u001b[0m\n\u001b[0m\u001b[1;32m    518\u001b[0m         \u001b[0;32mreturn\u001b[0m \u001b[0mself\u001b[0m\u001b[0;34m.\u001b[0m\u001b[0m_affected_rows\u001b[0m\u001b[0;34m\u001b[0m\u001b[0;34m\u001b[0m\u001b[0m\n\u001b[1;32m    519\u001b[0m \u001b[0;34m\u001b[0m\u001b[0m\n",
            "\u001b[0;32m/usr/local/lib/python3.6/dist-packages/pymysql/connections.py\u001b[0m in \u001b[0;36m_read_query_result\u001b[0;34m(self, unbuffered)\u001b[0m\n\u001b[1;32m    730\u001b[0m         \u001b[0;32melse\u001b[0m\u001b[0;34m:\u001b[0m\u001b[0;34m\u001b[0m\u001b[0;34m\u001b[0m\u001b[0m\n\u001b[1;32m    731\u001b[0m             \u001b[0mresult\u001b[0m \u001b[0;34m=\u001b[0m \u001b[0mMySQLResult\u001b[0m\u001b[0;34m(\u001b[0m\u001b[0mself\u001b[0m\u001b[0;34m)\u001b[0m\u001b[0;34m\u001b[0m\u001b[0;34m\u001b[0m\u001b[0m\n\u001b[0;32m--> 732\u001b[0;31m             \u001b[0mresult\u001b[0m\u001b[0;34m.\u001b[0m\u001b[0mread\u001b[0m\u001b[0;34m(\u001b[0m\u001b[0;34m)\u001b[0m\u001b[0;34m\u001b[0m\u001b[0;34m\u001b[0m\u001b[0m\n\u001b[0m\u001b[1;32m    733\u001b[0m         \u001b[0mself\u001b[0m\u001b[0;34m.\u001b[0m\u001b[0m_result\u001b[0m \u001b[0;34m=\u001b[0m \u001b[0mresult\u001b[0m\u001b[0;34m\u001b[0m\u001b[0;34m\u001b[0m\u001b[0m\n\u001b[1;32m    734\u001b[0m         \u001b[0;32mif\u001b[0m \u001b[0mresult\u001b[0m\u001b[0;34m.\u001b[0m\u001b[0mserver_status\u001b[0m \u001b[0;32mis\u001b[0m \u001b[0;32mnot\u001b[0m \u001b[0;32mNone\u001b[0m\u001b[0;34m:\u001b[0m\u001b[0;34m\u001b[0m\u001b[0;34m\u001b[0m\u001b[0m\n",
            "\u001b[0;32m/usr/local/lib/python3.6/dist-packages/pymysql/connections.py\u001b[0m in \u001b[0;36mread\u001b[0;34m(self)\u001b[0m\n\u001b[1;32m   1073\u001b[0m     \u001b[0;32mdef\u001b[0m \u001b[0mread\u001b[0m\u001b[0;34m(\u001b[0m\u001b[0mself\u001b[0m\u001b[0;34m)\u001b[0m\u001b[0;34m:\u001b[0m\u001b[0;34m\u001b[0m\u001b[0;34m\u001b[0m\u001b[0m\n\u001b[1;32m   1074\u001b[0m         \u001b[0;32mtry\u001b[0m\u001b[0;34m:\u001b[0m\u001b[0;34m\u001b[0m\u001b[0;34m\u001b[0m\u001b[0m\n\u001b[0;32m-> 1075\u001b[0;31m             \u001b[0mfirst_packet\u001b[0m \u001b[0;34m=\u001b[0m \u001b[0mself\u001b[0m\u001b[0;34m.\u001b[0m\u001b[0mconnection\u001b[0m\u001b[0;34m.\u001b[0m\u001b[0m_read_packet\u001b[0m\u001b[0;34m(\u001b[0m\u001b[0;34m)\u001b[0m\u001b[0;34m\u001b[0m\u001b[0;34m\u001b[0m\u001b[0m\n\u001b[0m\u001b[1;32m   1076\u001b[0m \u001b[0;34m\u001b[0m\u001b[0m\n\u001b[1;32m   1077\u001b[0m             \u001b[0;32mif\u001b[0m \u001b[0mfirst_packet\u001b[0m\u001b[0;34m.\u001b[0m\u001b[0mis_ok_packet\u001b[0m\u001b[0;34m(\u001b[0m\u001b[0;34m)\u001b[0m\u001b[0;34m:\u001b[0m\u001b[0;34m\u001b[0m\u001b[0;34m\u001b[0m\u001b[0m\n",
            "\u001b[0;32m/usr/local/lib/python3.6/dist-packages/pymysql/connections.py\u001b[0m in \u001b[0;36m_read_packet\u001b[0;34m(self, packet_type)\u001b[0m\n\u001b[1;32m    655\u001b[0m         \u001b[0mbuff\u001b[0m \u001b[0;34m=\u001b[0m \u001b[0;34mb''\u001b[0m\u001b[0;34m\u001b[0m\u001b[0;34m\u001b[0m\u001b[0m\n\u001b[1;32m    656\u001b[0m         \u001b[0;32mwhile\u001b[0m \u001b[0;32mTrue\u001b[0m\u001b[0;34m:\u001b[0m\u001b[0;34m\u001b[0m\u001b[0;34m\u001b[0m\u001b[0m\n\u001b[0;32m--> 657\u001b[0;31m             \u001b[0mpacket_header\u001b[0m \u001b[0;34m=\u001b[0m \u001b[0mself\u001b[0m\u001b[0;34m.\u001b[0m\u001b[0m_read_bytes\u001b[0m\u001b[0;34m(\u001b[0m\u001b[0;36m4\u001b[0m\u001b[0;34m)\u001b[0m\u001b[0;34m\u001b[0m\u001b[0;34m\u001b[0m\u001b[0m\n\u001b[0m\u001b[1;32m    658\u001b[0m             \u001b[0;31m#if DEBUG: dump_packet(packet_header)\u001b[0m\u001b[0;34m\u001b[0m\u001b[0;34m\u001b[0m\u001b[0;34m\u001b[0m\u001b[0m\n\u001b[1;32m    659\u001b[0m \u001b[0;34m\u001b[0m\u001b[0m\n",
            "\u001b[0;32m/usr/local/lib/python3.6/dist-packages/pymysql/connections.py\u001b[0m in \u001b[0;36m_read_bytes\u001b[0;34m(self, num_bytes)\u001b[0m\n\u001b[1;32m    689\u001b[0m         \u001b[0;32mwhile\u001b[0m \u001b[0;32mTrue\u001b[0m\u001b[0;34m:\u001b[0m\u001b[0;34m\u001b[0m\u001b[0;34m\u001b[0m\u001b[0m\n\u001b[1;32m    690\u001b[0m             \u001b[0;32mtry\u001b[0m\u001b[0;34m:\u001b[0m\u001b[0;34m\u001b[0m\u001b[0;34m\u001b[0m\u001b[0m\n\u001b[0;32m--> 691\u001b[0;31m                 \u001b[0mdata\u001b[0m \u001b[0;34m=\u001b[0m \u001b[0mself\u001b[0m\u001b[0;34m.\u001b[0m\u001b[0m_rfile\u001b[0m\u001b[0;34m.\u001b[0m\u001b[0mread\u001b[0m\u001b[0;34m(\u001b[0m\u001b[0mnum_bytes\u001b[0m\u001b[0;34m)\u001b[0m\u001b[0;34m\u001b[0m\u001b[0;34m\u001b[0m\u001b[0m\n\u001b[0m\u001b[1;32m    692\u001b[0m                 \u001b[0;32mbreak\u001b[0m\u001b[0;34m\u001b[0m\u001b[0;34m\u001b[0m\u001b[0m\n\u001b[1;32m    693\u001b[0m             \u001b[0;32mexcept\u001b[0m \u001b[0;34m(\u001b[0m\u001b[0mIOError\u001b[0m\u001b[0;34m,\u001b[0m \u001b[0mOSError\u001b[0m\u001b[0;34m)\u001b[0m \u001b[0;32mas\u001b[0m \u001b[0me\u001b[0m\u001b[0;34m:\u001b[0m\u001b[0;34m\u001b[0m\u001b[0;34m\u001b[0m\u001b[0m\n",
            "\u001b[0;32m/usr/lib/python3.6/socket.py\u001b[0m in \u001b[0;36mreadinto\u001b[0;34m(self, b)\u001b[0m\n\u001b[1;32m    584\u001b[0m         \u001b[0;32mwhile\u001b[0m \u001b[0;32mTrue\u001b[0m\u001b[0;34m:\u001b[0m\u001b[0;34m\u001b[0m\u001b[0;34m\u001b[0m\u001b[0m\n\u001b[1;32m    585\u001b[0m             \u001b[0;32mtry\u001b[0m\u001b[0;34m:\u001b[0m\u001b[0;34m\u001b[0m\u001b[0;34m\u001b[0m\u001b[0m\n\u001b[0;32m--> 586\u001b[0;31m                 \u001b[0;32mreturn\u001b[0m \u001b[0mself\u001b[0m\u001b[0;34m.\u001b[0m\u001b[0m_sock\u001b[0m\u001b[0;34m.\u001b[0m\u001b[0mrecv_into\u001b[0m\u001b[0;34m(\u001b[0m\u001b[0mb\u001b[0m\u001b[0;34m)\u001b[0m\u001b[0;34m\u001b[0m\u001b[0;34m\u001b[0m\u001b[0m\n\u001b[0m\u001b[1;32m    587\u001b[0m             \u001b[0;32mexcept\u001b[0m \u001b[0mtimeout\u001b[0m\u001b[0;34m:\u001b[0m\u001b[0;34m\u001b[0m\u001b[0;34m\u001b[0m\u001b[0m\n\u001b[1;32m    588\u001b[0m                 \u001b[0mself\u001b[0m\u001b[0;34m.\u001b[0m\u001b[0m_timeout_occurred\u001b[0m \u001b[0;34m=\u001b[0m \u001b[0;32mTrue\u001b[0m\u001b[0;34m\u001b[0m\u001b[0;34m\u001b[0m\u001b[0m\n",
            "\u001b[0;31mKeyboardInterrupt\u001b[0m: "
          ]
        }
      ]
    },
    {
      "metadata": {
        "id": "Fdnm4mx8d-nK",
        "colab_type": "code",
        "colab": {}
      },
      "cell_type": "code",
      "source": [
        "# df_sim_3_dict = df_sim_3[4].to_dict()\n",
        "# for i in df_sim_3_dict.items():\n",
        "#   print(i)"
      ],
      "execution_count": 0,
      "outputs": []
    },
    {
      "metadata": {
        "id": "4hfc0klZurPx",
        "colab_type": "code",
        "colab": {}
      },
      "cell_type": "code",
      "source": [
        ""
      ],
      "execution_count": 0,
      "outputs": []
    },
    {
      "metadata": {
        "id": "UxcwbK11YPVU",
        "colab_type": "code",
        "colab": {}
      },
      "cell_type": "code",
      "source": [
        ""
      ],
      "execution_count": 0,
      "outputs": []
    },
    {
      "metadata": {
        "id": "yCjdKv03YpUm",
        "colab_type": "code",
        "colab": {}
      },
      "cell_type": "code",
      "source": [
        ""
      ],
      "execution_count": 0,
      "outputs": []
    }
  ]
}